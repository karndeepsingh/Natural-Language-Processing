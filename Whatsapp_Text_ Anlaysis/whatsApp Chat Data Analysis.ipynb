{
 "cells": [
  {
   "cell_type": "code",
   "execution_count": 1,
   "metadata": {},
   "outputs": [
    {
     "data": {
      "application/javascript": [
       "if (window.IPython && IPython.notebook.kernel) IPython.notebook.kernel.execute('jovian.utils.jupyter.get_notebook_name_saved = lambda: \"' + IPython.notebook.notebook_name + '\"')"
      ],
      "text/plain": [
       "<IPython.core.display.Javascript object>"
      ]
     },
     "metadata": {},
     "output_type": "display_data"
    }
   ],
   "source": [
    "import re\n",
    "import pandas as pd\n",
    "import numpy as np\n",
    "import jovian\n",
    "from wordcloud import wordcloud, STOPWORDS\n",
    "import emoji\n",
    "import seaborn as sns\n",
    "import matplotlib.pyplot as plt\n",
    "\n"
   ]
  },
  {
   "cell_type": "code",
   "execution_count": 2,
   "metadata": {},
   "outputs": [
    {
     "name": "stderr",
     "output_type": "stream",
     "text": [
      "b'Skipping line 41: expected 2 fields, saw 3\\nSkipping line 126: expected 2 fields, saw 4\\nSkipping line 143: expected 2 fields, saw 3\\nSkipping line 203: expected 2 fields, saw 3\\nSkipping line 246: expected 2 fields, saw 3\\nSkipping line 254: expected 2 fields, saw 3\\nSkipping line 286: expected 2 fields, saw 3\\nSkipping line 368: expected 2 fields, saw 3\\nSkipping line 404: expected 2 fields, saw 4\\nSkipping line 574: expected 2 fields, saw 3\\nSkipping line 597: expected 2 fields, saw 7\\nSkipping line 873: expected 2 fields, saw 9\\nSkipping line 943: expected 2 fields, saw 10\\nSkipping line 988: expected 2 fields, saw 3\\nSkipping line 1076: expected 2 fields, saw 4\\nSkipping line 1077: expected 2 fields, saw 3\\nSkipping line 1078: expected 2 fields, saw 3\\nSkipping line 1209: expected 2 fields, saw 4\\nSkipping line 1232: expected 2 fields, saw 3\\nSkipping line 1303: expected 2 fields, saw 4\\nSkipping line 1386: expected 2 fields, saw 3\\nSkipping line 1394: expected 2 fields, saw 4\\nSkipping line 1415: expected 2 fields, saw 7\\nSkipping line 1418: expected 2 fields, saw 4\\nSkipping line 1421: expected 2 fields, saw 9\\nSkipping line 1424: expected 2 fields, saw 5\\nSkipping line 1427: expected 2 fields, saw 7\\nSkipping line 1430: expected 2 fields, saw 3\\nSkipping line 1487: expected 2 fields, saw 3\\nSkipping line 1632: expected 2 fields, saw 3\\nSkipping line 1701: expected 2 fields, saw 3\\nSkipping line 1705: expected 2 fields, saw 4\\nSkipping line 1757: expected 2 fields, saw 3\\nSkipping line 1766: expected 2 fields, saw 3\\nSkipping line 1793: expected 2 fields, saw 3\\nSkipping line 1802: expected 2 fields, saw 3\\nSkipping line 1804: expected 2 fields, saw 3\\nSkipping line 1887: expected 2 fields, saw 3\\nSkipping line 1890: expected 2 fields, saw 3\\nSkipping line 1980: expected 2 fields, saw 3\\nSkipping line 2031: expected 2 fields, saw 3\\nSkipping line 2035: expected 2 fields, saw 3\\nSkipping line 2036: expected 2 fields, saw 3\\nSkipping line 2038: expected 2 fields, saw 3\\nSkipping line 2104: expected 2 fields, saw 5\\nSkipping line 2124: expected 2 fields, saw 3\\nSkipping line 2219: expected 2 fields, saw 5\\nSkipping line 2376: expected 2 fields, saw 3\\nSkipping line 2378: expected 2 fields, saw 6\\nSkipping line 2380: expected 2 fields, saw 3\\nSkipping line 2386: expected 2 fields, saw 3\\nSkipping line 2390: expected 2 fields, saw 3\\nSkipping line 2419: expected 2 fields, saw 3\\nSkipping line 2429: expected 2 fields, saw 3\\nSkipping line 2462: expected 2 fields, saw 3\\nSkipping line 2672: expected 2 fields, saw 3\\nSkipping line 2682: expected 2 fields, saw 3\\nSkipping line 2769: expected 2 fields, saw 4\\nSkipping line 2859: expected 2 fields, saw 3\\nSkipping line 2865: expected 2 fields, saw 3\\nSkipping line 2886: expected 2 fields, saw 3\\nSkipping line 2901: expected 2 fields, saw 3\\nSkipping line 2903: expected 2 fields, saw 3\\nSkipping line 2910: expected 2 fields, saw 3\\nSkipping line 2923: expected 2 fields, saw 3\\nSkipping line 3024: expected 2 fields, saw 3\\nSkipping line 3069: expected 2 fields, saw 3\\nSkipping line 3158: expected 2 fields, saw 4\\nSkipping line 3160: expected 2 fields, saw 3\\nSkipping line 3162: expected 2 fields, saw 3\\nSkipping line 3164: expected 2 fields, saw 3\\nSkipping line 3227: expected 2 fields, saw 3\\nSkipping line 3298: expected 2 fields, saw 3\\nSkipping line 3330: expected 2 fields, saw 3\\nSkipping line 3385: expected 2 fields, saw 5\\nSkipping line 3387: expected 2 fields, saw 3\\nSkipping line 3389: expected 2 fields, saw 5\\nSkipping line 3395: expected 2 fields, saw 4\\nSkipping line 3424: expected 2 fields, saw 3\\nSkipping line 3465: expected 2 fields, saw 6\\nSkipping line 3492: expected 2 fields, saw 6\\nSkipping line 3661: expected 2 fields, saw 3\\nSkipping line 3726: expected 2 fields, saw 3\\nSkipping line 3728: expected 2 fields, saw 3\\nSkipping line 3731: expected 2 fields, saw 3\\nSkipping line 3831: expected 2 fields, saw 3\\nSkipping line 3906: expected 2 fields, saw 3\\nSkipping line 3915: expected 2 fields, saw 3\\nSkipping line 3919: expected 2 fields, saw 3\\nSkipping line 3955: expected 2 fields, saw 5\\nSkipping line 3995: expected 2 fields, saw 3\\nSkipping line 4013: expected 2 fields, saw 3\\nSkipping line 4081: expected 2 fields, saw 3\\nSkipping line 4117: expected 2 fields, saw 3\\nSkipping line 4455: expected 2 fields, saw 3\\nSkipping line 4465: expected 2 fields, saw 3\\nSkipping line 4477: expected 2 fields, saw 3\\nSkipping line 4483: expected 2 fields, saw 8\\nSkipping line 4485: expected 2 fields, saw 3\\nSkipping line 4498: expected 2 fields, saw 4\\nSkipping line 4576: expected 2 fields, saw 3\\nSkipping line 4603: expected 2 fields, saw 3\\nSkipping line 4615: expected 2 fields, saw 3\\nSkipping line 4689: expected 2 fields, saw 3\\nSkipping line 4710: expected 2 fields, saw 3\\nSkipping line 4719: expected 2 fields, saw 3\\nSkipping line 4729: expected 2 fields, saw 3\\nSkipping line 4736: expected 2 fields, saw 3\\nSkipping line 4744: expected 2 fields, saw 3\\nSkipping line 4762: expected 2 fields, saw 3\\nSkipping line 4826: expected 2 fields, saw 3\\nSkipping line 4828: expected 2 fields, saw 3\\nSkipping line 4850: expected 2 fields, saw 3\\nSkipping line 4866: expected 2 fields, saw 3\\nSkipping line 4870: expected 2 fields, saw 4\\nSkipping line 4872: expected 2 fields, saw 4\\nSkipping line 5109: expected 2 fields, saw 3\\nSkipping line 5123: expected 2 fields, saw 3\\nSkipping line 5141: expected 2 fields, saw 4\\nSkipping line 5173: expected 2 fields, saw 3\\nSkipping line 5204: expected 2 fields, saw 5\\nSkipping line 5211: expected 2 fields, saw 4\\nSkipping line 5215: expected 2 fields, saw 3\\nSkipping line 5485: expected 2 fields, saw 6\\nSkipping line 5602: expected 2 fields, saw 5\\nSkipping line 5609: expected 2 fields, saw 3\\nSkipping line 5644: expected 2 fields, saw 3\\nSkipping line 5646: expected 2 fields, saw 6\\nSkipping line 5648: expected 2 fields, saw 3\\nSkipping line 5654: expected 2 fields, saw 3\\nSkipping line 5658: expected 2 fields, saw 3\\nSkipping line 5740: expected 2 fields, saw 3\\nSkipping line 5746: expected 2 fields, saw 3\\nSkipping line 5748: expected 2 fields, saw 3\\nSkipping line 5750: expected 2 fields, saw 4\\nSkipping line 5762: expected 2 fields, saw 3\\nSkipping line 5812: expected 2 fields, saw 4\\nSkipping line 5814: expected 2 fields, saw 3\\nSkipping line 5854: expected 2 fields, saw 3\\nSkipping line 5961: expected 2 fields, saw 5\\nSkipping line 5967: expected 2 fields, saw 4\\nSkipping line 5974: expected 2 fields, saw 3\\nSkipping line 5986: expected 2 fields, saw 4\\nSkipping line 5990: expected 2 fields, saw 3\\nSkipping line 6012: expected 2 fields, saw 3\\nSkipping line 6024: expected 2 fields, saw 3\\nSkipping line 6028: expected 2 fields, saw 3\\nSkipping line 6053: expected 2 fields, saw 4\\nSkipping line 6077: expected 2 fields, saw 3\\nSkipping line 6108: expected 2 fields, saw 3\\nSkipping line 6138: expected 2 fields, saw 3\\nSkipping line 6156: expected 2 fields, saw 4\\nSkipping line 6161: expected 2 fields, saw 3\\nSkipping line 6170: expected 2 fields, saw 3\\nSkipping line 6174: expected 2 fields, saw 4\\nSkipping line 6183: expected 2 fields, saw 3\\nSkipping line 6258: expected 2 fields, saw 3\\nSkipping line 6341: expected 2 fields, saw 3\\nSkipping line 6471: expected 2 fields, saw 3\\nSkipping line 6483: expected 2 fields, saw 3\\nSkipping line 6547: expected 2 fields, saw 5\\nSkipping line 6552: expected 2 fields, saw 3\\nSkipping line 6556: expected 2 fields, saw 3\\nSkipping line 6570: expected 2 fields, saw 3\\nSkipping line 6581: expected 2 fields, saw 5\\nSkipping line 6626: expected 2 fields, saw 3\\nSkipping line 6696: expected 2 fields, saw 4\\nSkipping line 6699: expected 2 fields, saw 3\\nSkipping line 6728: expected 2 fields, saw 4\\nSkipping line 6730: expected 2 fields, saw 3\\nSkipping line 6737: expected 2 fields, saw 4\\nSkipping line 6738: expected 2 fields, saw 3\\nSkipping line 6747: expected 2 fields, saw 4\\nSkipping line 6753: expected 2 fields, saw 3\\nSkipping line 6765: expected 2 fields, saw 4\\nSkipping line 6777: expected 2 fields, saw 4\\nSkipping line 6819: expected 2 fields, saw 4\\nSkipping line 6823: expected 2 fields, saw 3\\nSkipping line 6829: expected 2 fields, saw 4\\nSkipping line 6848: expected 2 fields, saw 3\\nSkipping line 6862: expected 2 fields, saw 3\\nSkipping line 6876: expected 2 fields, saw 3\\nSkipping line 6964: expected 2 fields, saw 3\\nSkipping line 6994: expected 2 fields, saw 3\\nSkipping line 7047: expected 2 fields, saw 3\\nSkipping line 7241: expected 2 fields, saw 3\\nSkipping line 7249: expected 2 fields, saw 4\\nSkipping line 7266: expected 2 fields, saw 3\\nSkipping line 7322: expected 2 fields, saw 3\\nSkipping line 7368: expected 2 fields, saw 3\\nSkipping line 7400: expected 2 fields, saw 6\\nSkipping line 7401: expected 2 fields, saw 5\\nSkipping line 7430: expected 2 fields, saw 3\\nSkipping line 7469: expected 2 fields, saw 3\\nSkipping line 7485: expected 2 fields, saw 3\\nSkipping line 7509: expected 2 fields, saw 6\\nSkipping line 7514: expected 2 fields, saw 4\\nSkipping line 7555: expected 2 fields, saw 3\\nSkipping line 7577: expected 2 fields, saw 5\\nSkipping line 7590: expected 2 fields, saw 3\\nSkipping line 7607: expected 2 fields, saw 3\\nSkipping line 7639: expected 2 fields, saw 3\\nSkipping line 7721: expected 2 fields, saw 3\\nSkipping line 7725: expected 2 fields, saw 3\\nSkipping line 7808: expected 2 fields, saw 3\\nSkipping line 7825: expected 2 fields, saw 4\\nSkipping line 8073: expected 2 fields, saw 3\\nSkipping line 8090: expected 2 fields, saw 6\\nSkipping line 8095: expected 2 fields, saw 5\\nSkipping line 8161: expected 2 fields, saw 3\\nSkipping line 8204: expected 2 fields, saw 3\\nSkipping line 8226: expected 2 fields, saw 5\\nSkipping line 8268: expected 2 fields, saw 3\\nSkipping line 8271: expected 2 fields, saw 3\\nSkipping line 8335: expected 2 fields, saw 3\\nSkipping line 8348: expected 2 fields, saw 3\\nSkipping line 8354: expected 2 fields, saw 3\\nSkipping line 8378: expected 2 fields, saw 5\\nSkipping line 8405: expected 2 fields, saw 3\\nSkipping line 8487: expected 2 fields, saw 3\\nSkipping line 8576: expected 2 fields, saw 4\\nSkipping line 8600: expected 2 fields, saw 3\\nSkipping line 8633: expected 2 fields, saw 3\\nSkipping line 8830: expected 2 fields, saw 3\\nSkipping line 8833: expected 2 fields, saw 3\\nSkipping line 8975: expected 2 fields, saw 3\\nSkipping line 8979: expected 2 fields, saw 3\\nSkipping line 9069: expected 2 fields, saw 4\\nSkipping line 9103: expected 2 fields, saw 3\\nSkipping line 9147: expected 2 fields, saw 4\\nSkipping line 9156: expected 2 fields, saw 3\\nSkipping line 9205: expected 2 fields, saw 4\\nSkipping line 9364: expected 2 fields, saw 7\\nSkipping line 9403: expected 2 fields, saw 9\\nSkipping line 9411: expected 2 fields, saw 4\\nSkipping line 9415: expected 2 fields, saw 3\\nSkipping line 9418: expected 2 fields, saw 3\\nSkipping line 9430: expected 2 fields, saw 3\\nSkipping line 9431: expected 2 fields, saw 3\\nSkipping line 9440: expected 2 fields, saw 3\\nSkipping line 9444: expected 2 fields, saw 3\\nSkipping line 9449: expected 2 fields, saw 4\\nSkipping line 9451: expected 2 fields, saw 4\\nSkipping line 9602: expected 2 fields, saw 5\\nSkipping line 9690: expected 2 fields, saw 3\\nSkipping line 9762: expected 2 fields, saw 3\\nSkipping line 9827: expected 2 fields, saw 3\\nSkipping line 10113: expected 2 fields, saw 3\\nSkipping line 10259: expected 2 fields, saw 3\\nSkipping line 10292: expected 2 fields, saw 6\\nSkipping line 10326: expected 2 fields, saw 3\\nSkipping line 10342: expected 2 fields, saw 3\\nSkipping line 10366: expected 2 fields, saw 3\\nSkipping line 10415: expected 2 fields, saw 3\\nSkipping line 10438: expected 2 fields, saw 3\\nSkipping line 10441: expected 2 fields, saw 3\\nSkipping line 10478: expected 2 fields, saw 3\\nSkipping line 10511: expected 2 fields, saw 3\\nSkipping line 10592: expected 2 fields, saw 3\\nSkipping line 10665: expected 2 fields, saw 3\\nSkipping line 10678: expected 2 fields, saw 4\\nSkipping line 10690: expected 2 fields, saw 3\\nSkipping line 10702: expected 2 fields, saw 3\\nSkipping line 10721: expected 2 fields, saw 3\\nSkipping line 10735: expected 2 fields, saw 3\\nSkipping line 10747: expected 2 fields, saw 3\\nSkipping line 10878: expected 2 fields, saw 4\\nSkipping line 10890: expected 2 fields, saw 3\\nSkipping line 10928: expected 2 fields, saw 3\\nSkipping line 11000: expected 2 fields, saw 3\\nSkipping line 11122: expected 2 fields, saw 3\\nSkipping line 11197: expected 2 fields, saw 4\\nSkipping line 11230: expected 2 fields, saw 3\\nSkipping line 11316: expected 2 fields, saw 3\\nSkipping line 11368: expected 2 fields, saw 3\\nSkipping line 11390: expected 2 fields, saw 3\\nSkipping line 11414: expected 2 fields, saw 3\\nSkipping line 11434: expected 2 fields, saw 3\\nSkipping line 11447: expected 2 fields, saw 3\\nSkipping line 11448: expected 2 fields, saw 3\\nSkipping line 11449: expected 2 fields, saw 4\\nSkipping line 11451: expected 2 fields, saw 4\\nSkipping line 11471: expected 2 fields, saw 3\\nSkipping line 11503: expected 2 fields, saw 3\\nSkipping line 11508: expected 2 fields, saw 3\\nSkipping line 11520: expected 2 fields, saw 3\\nSkipping line 11705: expected 2 fields, saw 3\\nSkipping line 11919: expected 2 fields, saw 3\\nSkipping line 11988: expected 2 fields, saw 3\\n'\n"
     ]
    }
   ],
   "source": [
    "gsc = pd.read_csv(\"C:\\\\Users\\\\KARNDEEP SINGH\\\\Downloads\\\\gsc.txt\", encoding = \"utf-8\", error_bad_lines= False)"
   ]
  },
  {
   "cell_type": "code",
   "execution_count": 3,
   "metadata": {},
   "outputs": [],
   "source": [
    "gsc[\"user\"] = gsc.iloc[:, 1].str.split(\"-\").str[1].str.split(\":\").str[0]\n",
    "gsc[\"msg\"] = gsc.iloc[:, 1].str.split(\"-\").str[1].str.split(\":\").str[1]"
   ]
  },
  {
   "cell_type": "code",
   "execution_count": 4,
   "metadata": {},
   "outputs": [],
   "source": [
    "new_gsc = gsc.drop(gsc.columns[1], axis = 1)"
   ]
  },
  {
   "cell_type": "code",
   "execution_count": 5,
   "metadata": {},
   "outputs": [],
   "source": [
    "new_gsc = new_gsc.iloc[1:,:]"
   ]
  },
  {
   "cell_type": "code",
   "execution_count": 6,
   "metadata": {},
   "outputs": [],
   "source": [
    "data = new_gsc.rename({\"19/07/2016\": \"date\"}, axis = 1)\n"
   ]
  },
  {
   "cell_type": "code",
   "execution_count": 7,
   "metadata": {},
   "outputs": [],
   "source": [
    "data = data[~data[\"msg\"].isnull()]\n",
    "import datetime as dt\n",
    "# data = pd.to_datetime(data[\"date\"])\n"
   ]
  },
  {
   "cell_type": "code",
   "execution_count": 8,
   "metadata": {},
   "outputs": [],
   "source": [
    "data[\"date\"] = pd.to_datetime(data[\"date\"])\n"
   ]
  },
  {
   "cell_type": "code",
   "execution_count": 9,
   "metadata": {},
   "outputs": [],
   "source": [
    "data[\"day\"] = data[\"date\"].dt.strftime(\"%A\")"
   ]
  },
  {
   "cell_type": "code",
   "execution_count": 10,
   "metadata": {},
   "outputs": [
    {
     "data": {
      "text/plain": [
       " +91 88178 32415      1393\n",
       " +91 80071 34544       533\n",
       " +91 88895 48562       337\n",
       " +91 96171 46786       313\n",
       " +91 75090 51229       157\n",
       " +91 94251 82749       126\n",
       " +91 88784 08932       106\n",
       " +91 89622 63901        93\n",
       " +91 90394 06922        83\n",
       " +91 81202 10396        77\n",
       " +91 82518 70178        73\n",
       " +91 94078 85537        56\n",
       " +91 96305 98866        55\n",
       " Utsav                  47\n",
       " +91 95491 01909        44\n",
       " +91 82518 54469        39\n",
       " +91 98068 31051        30\n",
       " +91 75094 85347        25\n",
       " +91 94067 57639        24\n",
       " +91 82912 25031        23\n",
       " +91 95848 53506        20\n",
       " Karndeep Singh         19\n",
       " +91 70009 42099        16\n",
       " +91 88273 88363        10\n",
       " +91 78038 57256         9\n",
       " +91 99406 28414         8\n",
       " +91 97526 03233         7\n",
       " +91 90076 70759         7\n",
       " +91 94246 12129         6\n",
       " +91 85038 39005         5\n",
       " +91 89890 90787         5\n",
       " Parag Chapra            4\n",
       " +91 70766 07713         4\n",
       " +91 90743 93907         3\n",
       " +91 95894 64957         2\n",
       " +91 88210 21084         2\n",
       " +91 89592 05449         2\n",
       " +91 84358 73811         1\n",
       " +91 98064 35034         1\n",
       " +91 81097 99778         1\n",
       " +91 76111 60164         1\n",
       " Aayush Shrivastav       1\n",
       "Name: user, dtype: int64"
      ]
     },
     "execution_count": 10,
     "metadata": {},
     "output_type": "execute_result"
    }
   ],
   "source": [
    "data[\"user\"].value_counts()"
   ]
  },
  {
   "cell_type": "code",
   "execution_count": 11,
   "metadata": {},
   "outputs": [],
   "source": [
    "data_weekend= data[(data[\"day\"].isin([\"Sunday\"])) | (data[\"day\"].isin([\"Saturday\"]))]\n",
    "most_active = pd.DataFrame(data_weekend.pivot_table(index = \"user\", values = \"day\", aggfunc = np.size)).reset_index().sort_values(by=\"day\", ascending =False)"
   ]
  },
  {
   "cell_type": "code",
   "execution_count": 12,
   "metadata": {},
   "outputs": [
    {
     "data": {
      "text/html": [
       "<div>\n",
       "<style scoped>\n",
       "    .dataframe tbody tr th:only-of-type {\n",
       "        vertical-align: middle;\n",
       "    }\n",
       "\n",
       "    .dataframe tbody tr th {\n",
       "        vertical-align: top;\n",
       "    }\n",
       "\n",
       "    .dataframe thead th {\n",
       "        text-align: right;\n",
       "    }\n",
       "</style>\n",
       "<table border=\"1\" class=\"dataframe\">\n",
       "  <thead>\n",
       "    <tr style=\"text-align: right;\">\n",
       "      <th></th>\n",
       "      <th>user</th>\n",
       "      <th>day</th>\n",
       "    </tr>\n",
       "  </thead>\n",
       "  <tbody>\n",
       "    <tr>\n",
       "      <th>11</th>\n",
       "      <td>+91 88178 32415</td>\n",
       "      <td>323</td>\n",
       "    </tr>\n",
       "    <tr>\n",
       "      <th>14</th>\n",
       "      <td>+91 88895 48562</td>\n",
       "      <td>111</td>\n",
       "    </tr>\n",
       "    <tr>\n",
       "      <th>5</th>\n",
       "      <td>+91 80071 34544</td>\n",
       "      <td>79</td>\n",
       "    </tr>\n",
       "    <tr>\n",
       "      <th>25</th>\n",
       "      <td>+91 96171 46786</td>\n",
       "      <td>66</td>\n",
       "    </tr>\n",
       "    <tr>\n",
       "      <th>2</th>\n",
       "      <td>+91 75090 51229</td>\n",
       "      <td>66</td>\n",
       "    </tr>\n",
       "    <tr>\n",
       "      <th>15</th>\n",
       "      <td>+91 89622 63901</td>\n",
       "      <td>31</td>\n",
       "    </tr>\n",
       "    <tr>\n",
       "      <th>13</th>\n",
       "      <td>+91 88784 08932</td>\n",
       "      <td>27</td>\n",
       "    </tr>\n",
       "    <tr>\n",
       "      <th>22</th>\n",
       "      <td>+91 94251 82749</td>\n",
       "      <td>25</td>\n",
       "    </tr>\n",
       "    <tr>\n",
       "      <th>8</th>\n",
       "      <td>+91 82518 70178</td>\n",
       "      <td>24</td>\n",
       "    </tr>\n",
       "    <tr>\n",
       "      <th>28</th>\n",
       "      <td>+91 98068 31051</td>\n",
       "      <td>22</td>\n",
       "    </tr>\n",
       "    <tr>\n",
       "      <th>17</th>\n",
       "      <td>+91 90394 06922</td>\n",
       "      <td>20</td>\n",
       "    </tr>\n",
       "    <tr>\n",
       "      <th>20</th>\n",
       "      <td>+91 94078 85537</td>\n",
       "      <td>19</td>\n",
       "    </tr>\n",
       "    <tr>\n",
       "      <th>6</th>\n",
       "      <td>+91 81202 10396</td>\n",
       "      <td>16</td>\n",
       "    </tr>\n",
       "    <tr>\n",
       "      <th>7</th>\n",
       "      <td>+91 82518 54469</td>\n",
       "      <td>14</td>\n",
       "    </tr>\n",
       "    <tr>\n",
       "      <th>23</th>\n",
       "      <td>+91 95491 01909</td>\n",
       "      <td>14</td>\n",
       "    </tr>\n",
       "    <tr>\n",
       "      <th>26</th>\n",
       "      <td>+91 96305 98866</td>\n",
       "      <td>9</td>\n",
       "    </tr>\n",
       "    <tr>\n",
       "      <th>9</th>\n",
       "      <td>+91 82912 25031</td>\n",
       "      <td>8</td>\n",
       "    </tr>\n",
       "    <tr>\n",
       "      <th>24</th>\n",
       "      <td>+91 95848 53506</td>\n",
       "      <td>6</td>\n",
       "    </tr>\n",
       "    <tr>\n",
       "      <th>30</th>\n",
       "      <td>Utsav</td>\n",
       "      <td>5</td>\n",
       "    </tr>\n",
       "    <tr>\n",
       "      <th>4</th>\n",
       "      <td>+91 78038 57256</td>\n",
       "      <td>5</td>\n",
       "    </tr>\n",
       "    <tr>\n",
       "      <th>3</th>\n",
       "      <td>+91 75094 85347</td>\n",
       "      <td>4</td>\n",
       "    </tr>\n",
       "    <tr>\n",
       "      <th>16</th>\n",
       "      <td>+91 90076 70759</td>\n",
       "      <td>3</td>\n",
       "    </tr>\n",
       "    <tr>\n",
       "      <th>27</th>\n",
       "      <td>+91 97526 03233</td>\n",
       "      <td>3</td>\n",
       "    </tr>\n",
       "    <tr>\n",
       "      <th>29</th>\n",
       "      <td>+91 99406 28414</td>\n",
       "      <td>3</td>\n",
       "    </tr>\n",
       "    <tr>\n",
       "      <th>0</th>\n",
       "      <td>+91 70009 42099</td>\n",
       "      <td>3</td>\n",
       "    </tr>\n",
       "    <tr>\n",
       "      <th>19</th>\n",
       "      <td>+91 94067 57639</td>\n",
       "      <td>2</td>\n",
       "    </tr>\n",
       "    <tr>\n",
       "      <th>21</th>\n",
       "      <td>+91 94246 12129</td>\n",
       "      <td>2</td>\n",
       "    </tr>\n",
       "    <tr>\n",
       "      <th>12</th>\n",
       "      <td>+91 88273 88363</td>\n",
       "      <td>2</td>\n",
       "    </tr>\n",
       "    <tr>\n",
       "      <th>10</th>\n",
       "      <td>+91 85038 39005</td>\n",
       "      <td>2</td>\n",
       "    </tr>\n",
       "    <tr>\n",
       "      <th>18</th>\n",
       "      <td>+91 90743 93907</td>\n",
       "      <td>1</td>\n",
       "    </tr>\n",
       "    <tr>\n",
       "      <th>1</th>\n",
       "      <td>+91 70766 07713</td>\n",
       "      <td>1</td>\n",
       "    </tr>\n",
       "  </tbody>\n",
       "</table>\n",
       "</div>"
      ],
      "text/plain": [
       "                user  day\n",
       "11   +91 88178 32415  323\n",
       "14   +91 88895 48562  111\n",
       "5    +91 80071 34544   79\n",
       "25   +91 96171 46786   66\n",
       "2    +91 75090 51229   66\n",
       "15   +91 89622 63901   31\n",
       "13   +91 88784 08932   27\n",
       "22   +91 94251 82749   25\n",
       "8    +91 82518 70178   24\n",
       "28   +91 98068 31051   22\n",
       "17   +91 90394 06922   20\n",
       "20   +91 94078 85537   19\n",
       "6    +91 81202 10396   16\n",
       "7    +91 82518 54469   14\n",
       "23   +91 95491 01909   14\n",
       "26   +91 96305 98866    9\n",
       "9    +91 82912 25031    8\n",
       "24   +91 95848 53506    6\n",
       "30             Utsav    5\n",
       "4    +91 78038 57256    5\n",
       "3    +91 75094 85347    4\n",
       "16   +91 90076 70759    3\n",
       "27   +91 97526 03233    3\n",
       "29   +91 99406 28414    3\n",
       "0    +91 70009 42099    3\n",
       "19   +91 94067 57639    2\n",
       "21   +91 94246 12129    2\n",
       "12   +91 88273 88363    2\n",
       "10   +91 85038 39005    2\n",
       "18   +91 90743 93907    1\n",
       "1    +91 70766 07713    1"
      ]
     },
     "execution_count": 12,
     "metadata": {},
     "output_type": "execute_result"
    }
   ],
   "source": [
    "most_active"
   ]
  },
  {
   "cell_type": "markdown",
   "metadata": {},
   "source": [
    "### The most active member of the group is same  on weekends and weekday i.e 88178 32415 according to data he was active 1393 for weekdays and on weekends he was active for 323"
   ]
  },
  {
   "cell_type": "code",
   "execution_count": 13,
   "metadata": {},
   "outputs": [
    {
     "data": {
      "text/plain": [
       "array([' +91 88178 32415', ' Karndeep Singh', ' +91 89890 90787',\n",
       "       ' +91 75090 51229', ' +91 94078 85537', ' +91 96171 46786',\n",
       "       ' +91 88784 08932', ' +91 99406 28414', ' +91 98068 31051',\n",
       "       ' +91 82518 54469', ' +91 97526 03233', ' +91 88273 88363',\n",
       "       ' +91 88895 48562', ' +91 95491 01909', ' +91 94251 82749',\n",
       "       ' +91 88210 21084', ' +91 70766 07713', ' +91 90743 93907',\n",
       "       ' +91 82518 70178', ' +91 81202 10396', ' +91 78038 57256',\n",
       "       ' +91 90076 70759', ' +91 89622 63901', ' +91 95848 53506',\n",
       "       ' +91 95894 64957', ' +91 98064 35034', ' +91 94067 57639',\n",
       "       ' +91 96305 98866', ' Utsav', ' +91 80071 34544',\n",
       "       ' Aayush Shrivastav', ' +91 75094 85347', ' +91 81097 99778',\n",
       "       ' +91 82912 25031', ' +91 90394 06922', ' +91 89592 05449',\n",
       "       ' Parag Chapra', ' +91 84358 73811', ' +91 76111 60164',\n",
       "       ' +91 70009 42099', ' +91 85038 39005', ' +91 94246 12129'],\n",
       "      dtype=object)"
      ]
     },
     "execution_count": 13,
     "metadata": {},
     "output_type": "execute_result"
    }
   ],
   "source": [
    "data[\"user\"].unique()"
   ]
  },
  {
   "cell_type": "code",
   "execution_count": 14,
   "metadata": {},
   "outputs": [
    {
     "data": {
      "text/plain": [
       "user\n",
       " +91 70009 42099        6\n",
       " +91 70766 07713        8\n",
       " +91 75090 51229      266\n",
       " +91 75094 85347       40\n",
       " +91 76111 60164        0\n",
       " +91 78038 57256        3\n",
       " +91 80071 34544      308\n",
       " +91 81097 99778        0\n",
       " +91 81202 10396       86\n",
       " +91 82518 54469       31\n",
       " +91 82518 70178       71\n",
       " +91 82912 25031       21\n",
       " +91 84358 73811        0\n",
       " +91 85038 39005        2\n",
       " +91 88178 32415      844\n",
       " +91 88210 21084        9\n",
       " +91 88273 88363        2\n",
       " +91 88784 08932      107\n",
       " +91 88895 48562      328\n",
       " +91 89592 05449       11\n",
       " +91 89622 63901       37\n",
       " +91 89890 90787        0\n",
       " +91 90076 70759        4\n",
       " +91 90394 06922      156\n",
       " +91 90743 93907        0\n",
       " +91 94067 57639       33\n",
       " +91 94078 85537       28\n",
       " +91 94246 12129       10\n",
       " +91 94251 82749      138\n",
       " +91 95491 01909       41\n",
       " +91 95848 53506        0\n",
       " +91 95894 64957        1\n",
       " +91 96171 46786      215\n",
       " +91 96305 98866       17\n",
       " +91 97526 03233        5\n",
       " +91 98064 35034        4\n",
       " +91 98068 31051       16\n",
       " +91 99406 28414        8\n",
       " Aayush Shrivastav      2\n",
       " Karndeep Singh         8\n",
       " Parag Chapra           4\n",
       " Utsav                 48\n",
       "Name: msg, dtype: int64"
      ]
     },
     "execution_count": 14,
     "metadata": {},
     "output_type": "execute_result"
    }
   ],
   "source": [
    "data.groupby(\"user\")[\"msg\"].sum().apply(emoji.emoji_count)"
   ]
  },
  {
   "cell_type": "code",
   "execution_count": 15,
   "metadata": {},
   "outputs": [
    {
     "data": {
      "text/plain": [
       "844"
      ]
     },
     "execution_count": 15,
     "metadata": {},
     "output_type": "execute_result"
    }
   ],
   "source": [
    "filter_data= data[data[\"user\"].isin([data[\"user\"].unique()[0]])]\n",
    "count_emoji = filter_data[\"msg\"].apply(emoji.emoji_count).sum()\n",
    "count_emoji"
   ]
  },
  {
   "cell_type": "markdown",
   "metadata": {},
   "source": [
    "### Total Emojis is used are 844"
   ]
  },
  {
   "cell_type": "code",
   "execution_count": 16,
   "metadata": {},
   "outputs": [],
   "source": [
    "data[\"time\"] = gsc.iloc[:, 1].str.split(\"-\").str[0]"
   ]
  },
  {
   "cell_type": "code",
   "execution_count": 17,
   "metadata": {},
   "outputs": [
    {
     "name": "stderr",
     "output_type": "stream",
     "text": [
      "C:\\Users\\KARNDEEP SINGH\\Anaconda3\\lib\\site-packages\\ipykernel_launcher.py:2: SettingWithCopyWarning: \n",
      "A value is trying to be set on a copy of a slice from a DataFrame.\n",
      "Try using .loc[row_indexer,col_indexer] = value instead\n",
      "\n",
      "See the caveats in the documentation: http://pandas.pydata.org/pandas-docs/stable/user_guide/indexing.html#returning-a-view-versus-a-copy\n",
      "  \n"
     ]
    }
   ],
   "source": [
    "data_time = data[data[\"user\"].isin([data[\"user\"].unique()[0]])]\n",
    "data_time[\"hour\"] = data[\"time\"].str.split(\":\").str[0]"
   ]
  },
  {
   "cell_type": "code",
   "execution_count": 18,
   "metadata": {},
   "outputs": [],
   "source": [
    "count_hour = pd.DataFrame(data_time[\"hour\"].value_counts()).sort_index()"
   ]
  },
  {
   "cell_type": "code",
   "execution_count": 19,
   "metadata": {},
   "outputs": [
    {
     "data": {
      "text/plain": [
       "<matplotlib.axes._subplots.AxesSubplot at 0x17d46a3e860>"
      ]
     },
     "execution_count": 19,
     "metadata": {},
     "output_type": "execute_result"
    },
    {
     "data": {
      "image/png": "[encoded data removed]",
      "text/plain": [
       "<Figure size 432x288 with 1 Axes>"
      ]
     },
     "metadata": {
      "needs_background": "light"
     },
     "output_type": "display_data"
    }
   ],
   "source": [
    "count_hour.plot(kind = \"bar\")"
   ]
  },
  {
   "cell_type": "code",
   "execution_count": 20,
   "metadata": {},
   "outputs": [],
   "source": [
    "weekend = data_time[(data_time[\"day\"] == \"Saturday\")|(data_time[\"day\"] == \"Sunday\")]"
   ]
  },
  {
   "cell_type": "code",
   "execution_count": 21,
   "metadata": {},
   "outputs": [
    {
     "name": "stderr",
     "output_type": "stream",
     "text": [
      "C:\\Users\\KARNDEEP SINGH\\Anaconda3\\lib\\site-packages\\pandas\\core\\indexing.py:494: SettingWithCopyWarning: \n",
      "A value is trying to be set on a copy of a slice from a DataFrame.\n",
      "Try using .loc[row_indexer,col_indexer] = value instead\n",
      "\n",
      "See the caveats in the documentation: http://pandas.pydata.org/pandas-docs/stable/user_guide/indexing.html#returning-a-view-versus-a-copy\n",
      "  self.obj[item] = s\n"
     ]
    }
   ],
   "source": [
    "weekdays = data_time[~((data_time[\"day\"] == \"Saturday\")|(data_time[\"day\"] == \"Sunday\"))]\n",
    "weekdays.loc[:,\"hour\"] = weekdays.loc[:,\"hour\"].astype(int)"
   ]
  },
  {
   "cell_type": "code",
   "execution_count": 22,
   "metadata": {},
   "outputs": [
    {
     "name": "stderr",
     "output_type": "stream",
     "text": [
      "C:\\Users\\KARNDEEP SINGH\\Anaconda3\\lib\\site-packages\\ipykernel_launcher.py:1: SettingWithCopyWarning: \n",
      "A value is trying to be set on a copy of a slice from a DataFrame.\n",
      "Try using .loc[row_indexer,col_indexer] = value instead\n",
      "\n",
      "See the caveats in the documentation: http://pandas.pydata.org/pandas-docs/stable/user_guide/indexing.html#returning-a-view-versus-a-copy\n",
      "  \"\"\"Entry point for launching an IPython kernel.\n"
     ]
    }
   ],
   "source": [
    "weekend[\"hour\"] = weekend[\"hour\"].astype(int)"
   ]
  },
  {
   "cell_type": "code",
   "execution_count": 23,
   "metadata": {},
   "outputs": [],
   "source": [
    "weekend_usage = weekend.groupby(\"day\")[\"hour\"].sum()"
   ]
  },
  {
   "cell_type": "code",
   "execution_count": 24,
   "metadata": {},
   "outputs": [
    {
     "data": {
      "text/plain": [
       "day\n",
       "Saturday    2274\n",
       "Sunday      2324\n",
       "Name: hour, dtype: int32"
      ]
     },
     "execution_count": 24,
     "metadata": {},
     "output_type": "execute_result"
    }
   ],
   "source": [
    "weekend_usage"
   ]
  },
  {
   "cell_type": "code",
   "execution_count": 25,
   "metadata": {},
   "outputs": [
    {
     "data": {
      "text/plain": [
       "<matplotlib.axes._subplots.AxesSubplot at 0x17d46a2ab38>"
      ]
     },
     "execution_count": 25,
     "metadata": {},
     "output_type": "execute_result"
    },
    {
     "data": {
      "image/png": "[encoded data removed]",
      "text/plain": [
       "<Figure size 432x288 with 1 Axes>"
      ]
     },
     "metadata": {
      "needs_background": "light"
     },
     "output_type": "display_data"
    }
   ],
   "source": [
    "weekend_usage.plot(kind= \"bar\",title = \"Weekend Usage\")"
   ]
  },
  {
   "cell_type": "code",
   "execution_count": 26,
   "metadata": {},
   "outputs": [],
   "source": [
    "weekdays_usage = weekdays.groupby(\"day\")[\"hour\"].sum()"
   ]
  },
  {
   "cell_type": "code",
   "execution_count": 27,
   "metadata": {},
   "outputs": [
    {
     "data": {
      "text/plain": [
       "<matplotlib.axes._subplots.AxesSubplot at 0x17d469e06a0>"
      ]
     },
     "execution_count": 27,
     "metadata": {},
     "output_type": "execute_result"
    },
    {
     "data": {
      "image/png": "[encoded data removed]",
      "text/plain": [
       "<Figure size 432x288 with 1 Axes>"
      ]
     },
     "metadata": {
      "needs_background": "light"
     },
     "output_type": "display_data"
    }
   ],
   "source": [
    "weekdays_usage.plot(kind =\"bar\")"
   ]
  },
  {
   "cell_type": "markdown",
   "metadata": {},
   "source": [
    "### How many words do i type on an average in weekdays and weekend??"
   ]
  },
  {
   "cell_type": "code",
   "execution_count": 28,
   "metadata": {},
   "outputs": [],
   "source": [
    "def word_count(sentence):\n",
    "    word = sentence.strip().split(\" \")\n",
    "    return len(word)"
   ]
  },
  {
   "cell_type": "code",
   "execution_count": 29,
   "metadata": {},
   "outputs": [
    {
     "data": {
      "text/html": [
       "<div>\n",
       "<style scoped>\n",
       "    .dataframe tbody tr th:only-of-type {\n",
       "        vertical-align: middle;\n",
       "    }\n",
       "\n",
       "    .dataframe tbody tr th {\n",
       "        vertical-align: top;\n",
       "    }\n",
       "\n",
       "    .dataframe thead th {\n",
       "        text-align: right;\n",
       "    }\n",
       "</style>\n",
       "<table border=\"1\" class=\"dataframe\">\n",
       "  <thead>\n",
       "    <tr style=\"text-align: right;\">\n",
       "      <th></th>\n",
       "      <th>date</th>\n",
       "      <th>user</th>\n",
       "      <th>msg</th>\n",
       "      <th>day</th>\n",
       "      <th>time</th>\n",
       "      <th>hour</th>\n",
       "    </tr>\n",
       "  </thead>\n",
       "  <tbody>\n",
       "    <tr>\n",
       "      <th>377</th>\n",
       "      <td>2016-10-08</td>\n",
       "      <td>+91 88178 32415</td>\n",
       "      <td>&lt;Media omitted&gt;</td>\n",
       "      <td>Saturday</td>\n",
       "      <td>18:41</td>\n",
       "      <td>18</td>\n",
       "    </tr>\n",
       "    <tr>\n",
       "      <th>395</th>\n",
       "      <td>2016-08-20</td>\n",
       "      <td>+91 88178 32415</td>\n",
       "      <td>Jo left kre</td>\n",
       "      <td>Saturday</td>\n",
       "      <td>23:18</td>\n",
       "      <td>23</td>\n",
       "    </tr>\n",
       "    <tr>\n",
       "      <th>396</th>\n",
       "      <td>2016-08-20</td>\n",
       "      <td>+91 88178 32415</td>\n",
       "      <td>Plz do not add</td>\n",
       "      <td>Saturday</td>\n",
       "      <td>23:18</td>\n",
       "      <td>23</td>\n",
       "    </tr>\n",
       "    <tr>\n",
       "      <th>398</th>\n",
       "      <td>2016-08-20</td>\n",
       "      <td>+91 88178 32415</td>\n",
       "      <td>Ohk</td>\n",
       "      <td>Saturday</td>\n",
       "      <td>23:28</td>\n",
       "      <td>23</td>\n",
       "    </tr>\n",
       "    <tr>\n",
       "      <th>416</th>\n",
       "      <td>2016-08-20</td>\n",
       "      <td>+91 88178 32415</td>\n",
       "      <td>&lt;Media omitted&gt;</td>\n",
       "      <td>Saturday</td>\n",
       "      <td>23:44</td>\n",
       "      <td>23</td>\n",
       "    </tr>\n",
       "    <tr>\n",
       "      <th>...</th>\n",
       "      <td>...</td>\n",
       "      <td>...</td>\n",
       "      <td>...</td>\n",
       "      <td>...</td>\n",
       "      <td>...</td>\n",
       "      <td>...</td>\n",
       "    </tr>\n",
       "    <tr>\n",
       "      <th>9064</th>\n",
       "      <td>2019-08-31</td>\n",
       "      <td>+91 88178 32415</td>\n",
       "      <td>Ammar se b harami nikla tu😀😀😀</td>\n",
       "      <td>Saturday</td>\n",
       "      <td>20:03</td>\n",
       "      <td>20</td>\n",
       "    </tr>\n",
       "    <tr>\n",
       "      <th>9066</th>\n",
       "      <td>2019-08-31</td>\n",
       "      <td>+91 88178 32415</td>\n",
       "      <td>😀</td>\n",
       "      <td>Saturday</td>\n",
       "      <td>20:04</td>\n",
       "      <td>20</td>\n",
       "    </tr>\n",
       "    <tr>\n",
       "      <th>9074</th>\n",
       "      <td>2019-02-09</td>\n",
       "      <td>+91 88178 32415</td>\n",
       "      <td>&lt;Media omitted&gt;</td>\n",
       "      <td>Saturday</td>\n",
       "      <td>16:25</td>\n",
       "      <td>16</td>\n",
       "    </tr>\n",
       "    <tr>\n",
       "      <th>9078</th>\n",
       "      <td>2019-06-09</td>\n",
       "      <td>+91 88178 32415</td>\n",
       "      <td>उमर 77 की लेकिन चाल 27 की देखो</td>\n",
       "      <td>Sunday</td>\n",
       "      <td>11:28</td>\n",
       "      <td>11</td>\n",
       "    </tr>\n",
       "    <tr>\n",
       "      <th>9079</th>\n",
       "      <td>2019-06-09</td>\n",
       "      <td>+91 88178 32415</td>\n",
       "      <td>&lt;Media omitted&gt;</td>\n",
       "      <td>Sunday</td>\n",
       "      <td>11:28</td>\n",
       "      <td>11</td>\n",
       "    </tr>\n",
       "  </tbody>\n",
       "</table>\n",
       "<p>323 rows × 6 columns</p>\n",
       "</div>"
      ],
      "text/plain": [
       "           date              user                              msg       day  \\\n",
       "377  2016-10-08   +91 88178 32415                  <Media omitted>  Saturday   \n",
       "395  2016-08-20   +91 88178 32415                      Jo left kre  Saturday   \n",
       "396  2016-08-20   +91 88178 32415                   Plz do not add  Saturday   \n",
       "398  2016-08-20   +91 88178 32415                              Ohk  Saturday   \n",
       "416  2016-08-20   +91 88178 32415                  <Media omitted>  Saturday   \n",
       "...         ...               ...                              ...       ...   \n",
       "9064 2019-08-31   +91 88178 32415    Ammar se b harami nikla tu😀😀😀  Saturday   \n",
       "9066 2019-08-31   +91 88178 32415                                😀  Saturday   \n",
       "9074 2019-02-09   +91 88178 32415                  <Media omitted>  Saturday   \n",
       "9078 2019-06-09   +91 88178 32415   उमर 77 की लेकिन चाल 27 की देखो    Sunday   \n",
       "9079 2019-06-09   +91 88178 32415                  <Media omitted>    Sunday   \n",
       "\n",
       "         time  hour  \n",
       "377    18:41     18  \n",
       "395    23:18     23  \n",
       "396    23:18     23  \n",
       "398    23:28     23  \n",
       "416    23:44     23  \n",
       "...       ...   ...  \n",
       "9064   20:03     20  \n",
       "9066   20:04     20  \n",
       "9074   16:25     16  \n",
       "9078   11:28     11  \n",
       "9079   11:28     11  \n",
       "\n",
       "[323 rows x 6 columns]"
      ]
     },
     "execution_count": 29,
     "metadata": {},
     "output_type": "execute_result"
    }
   ],
   "source": [
    "weekend"
   ]
  },
  {
   "cell_type": "code",
   "execution_count": 30,
   "metadata": {},
   "outputs": [
    {
     "name": "stderr",
     "output_type": "stream",
     "text": [
      "C:\\Users\\KARNDEEP SINGH\\Anaconda3\\lib\\site-packages\\ipykernel_launcher.py:1: SettingWithCopyWarning: \n",
      "A value is trying to be set on a copy of a slice from a DataFrame.\n",
      "Try using .loc[row_indexer,col_indexer] = value instead\n",
      "\n",
      "See the caveats in the documentation: http://pandas.pydata.org/pandas-docs/stable/user_guide/indexing.html#returning-a-view-versus-a-copy\n",
      "  \"\"\"Entry point for launching an IPython kernel.\n"
     ]
    }
   ],
   "source": [
    "weekdays[\"word_count\"] = weekdays[\"msg\"].apply(word_count)"
   ]
  },
  {
   "cell_type": "code",
   "execution_count": 31,
   "metadata": {},
   "outputs": [],
   "source": [
    "#weekdays\n",
    "avg_weekdays_word = weekdays.pivot_table(index =\"day\", values = \"word_count\")"
   ]
  },
  {
   "cell_type": "code",
   "execution_count": 32,
   "metadata": {},
   "outputs": [
    {
     "data": {
      "text/plain": [
       "<matplotlib.axes._subplots.AxesSubplot at 0x17d46a28b38>"
      ]
     },
     "execution_count": 32,
     "metadata": {},
     "output_type": "execute_result"
    },
    {
     "data": {
      "image/png": "[encoded data removed]",
      "text/plain": [
       "<Figure size 432x288 with 1 Axes>"
      ]
     },
     "metadata": {
      "needs_background": "light"
     },
     "output_type": "display_data"
    }
   ],
   "source": [
    "avg_weekdays_word.plot(kind = \"bar\", title = \"average word used on weekdays\")"
   ]
  },
  {
   "cell_type": "code",
   "execution_count": 33,
   "metadata": {},
   "outputs": [
    {
     "name": "stderr",
     "output_type": "stream",
     "text": [
      "C:\\Users\\KARNDEEP SINGH\\Anaconda3\\lib\\site-packages\\ipykernel_launcher.py:2: SettingWithCopyWarning: \n",
      "A value is trying to be set on a copy of a slice from a DataFrame.\n",
      "Try using .loc[row_indexer,col_indexer] = value instead\n",
      "\n",
      "See the caveats in the documentation: http://pandas.pydata.org/pandas-docs/stable/user_guide/indexing.html#returning-a-view-versus-a-copy\n",
      "  \n"
     ]
    }
   ],
   "source": [
    "#weekend:\n",
    "weekend[\"word_count\"] = weekend[\"msg\"].str.strip().str.split(\" \").apply(lambda x: len(x))"
   ]
  },
  {
   "cell_type": "code",
   "execution_count": 34,
   "metadata": {},
   "outputs": [],
   "source": [
    "avg_weekend_word = weekend.pivot_table(index=\"day\", values = \"word_count\")"
   ]
  },
  {
   "cell_type": "code",
   "execution_count": 35,
   "metadata": {},
   "outputs": [
    {
     "data": {
      "text/plain": [
       "<matplotlib.axes._subplots.AxesSubplot at 0x17d4697f828>"
      ]
     },
     "execution_count": 35,
     "metadata": {},
     "output_type": "execute_result"
    },
    {
     "data": {
      "image/png": "[encoded data removed]",
      "text/plain": [
       "<Figure size 432x288 with 1 Axes>"
      ]
     },
     "metadata": {
      "needs_background": "light"
     },
     "output_type": "display_data"
    }
   ],
   "source": [
    "avg_weekend_word.plot(kind= \"bar\", title= \"average words used on weekends\")"
   ]
  }
 ],
 "metadata": {
  "kernelspec": {
   "display_name": "Python 3",
   "language": "python",
   "name": "python3"
  },
  "language_info": {
   "codemirror_mode": {
    "name": "ipython",
    "version": 3
   },
   "file_extension": ".py",
   "mimetype": "text/x-python",
   "name": "python",
   "nbconvert_exporter": "python",
   "pygments_lexer": "ipython3",
   "version": "3.7.1"
  }
 },
 "nbformat": 4,
 "nbformat_minor": 2
}
